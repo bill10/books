{
 "cells": [
  {
   "cell_type": "code",
   "execution_count": 1,
   "metadata": {
    "collapsed": true
   },
   "outputs": [],
   "source": [
    "import requests\n",
    "from bs4 import BeautifulSoup as bs\n",
    "from collections import deque\n",
    "import time\n",
    "import pickle\n",
    "import random"
   ]
  },
  {
   "cell_type": "code",
   "execution_count": 1,
   "metadata": {
    "collapsed": true
   },
   "outputs": [],
   "source": [
    "# Need to rewrite the crawler to avoid hitting books already visited"
   ]
  },
  {
   "cell_type": "code",
   "execution_count": null,
   "metadata": {
    "collapsed": false
   },
   "outputs": [],
   "source": [
    "baseURL='http://www.barnesandnoble.com'\n",
    "q=deque()\n",
    "q.append('/w/the-wright-brothers-david-mccullough/1120423177?ean=9781476728742')\n",
    "\n",
    "ids=[]\n",
    "isbns=[]\n",
    "isbnSet=set()\n",
    "titles=[]\n",
    "authors=[]\n",
    "dates=[]\n",
    "editions=[]\n",
    "pages=[]\n",
    "saleRanks=[]\n",
    "edges=[]\n",
    "iterations=0\n",
    "while len(q)>0:\n",
    "    url=baseURL+q.popleft()\n",
    "    isbn=url.split('=')[-1]\n",
    "    if isbn in isbnSet:\n",
    "        continue\n",
    "    html = requests.get(url)\n",
    "    soup = bs(html.text)\n",
    "    ids.append(url.split('/')[-1].split('?')[0])\n",
    "    isbns.append(isbn)\n",
    "    isbnSet.add(isbn)\n",
    "    try:\n",
    "        titles.append(soup.findAll('h1',{'itemprop':\"name\"})[0].getText())\n",
    "    except:\n",
    "        titles.append('')\n",
    "    try:\n",
    "        authors.append(soup.find('span',{'class':\"contributors\"}).find('a').getText())\n",
    "    except:\n",
    "        authors.append('')\n",
    "    try:\n",
    "        dates.append(soup.find(\"dt\",text=\"Publication date:\").findNextSibling(\"dd\").getText())\n",
    "    except:\n",
    "        dates.append('')\n",
    "    try:\n",
    "        editions.append(soup.find(\"dt\",text=\"Edition description:\").findNextSibling(\"dd\").getText())\n",
    "    except:\n",
    "        editions.append('')\n",
    "    try:\n",
    "        pages.append(soup.find(\"dt\",text=\"Pages:\").findNextSibling(\"dd\").getText())\n",
    "    except:\n",
    "        pages.append('')\n",
    "    try:\n",
    "        saleRanks.append(soup.find(\"dt\",text=\"Sales rank:\").findNextSibling(\"dd\").getText())\n",
    "    except:\n",
    "        saleRanks.append('')\n",
    "    try:\n",
    "        recommendationURL='http://www.barnesandnoble.com/includes/bn-recommendation-content.jsp?count=100&fromWL=&title=Customers+Who+Bought+This+Item+Also+Bought&skuId={}&_={}'.format(isbns[-1],ids[-1])\n",
    "        html = requests.get(recommendationURL)\n",
    "        soup = bs(html.text)\n",
    "        for i in soup.find_all('a',{'class':\"book-carousel-link\"}):\n",
    "            u=i.get('href')\n",
    "            q.append(u)\n",
    "            edges.append((isbns[-1],u.split('=')[-1]))\n",
    "    except:\n",
    "        pass\n",
    "    iterations+=1\n",
    "    if iterations%10000==0:\n",
    "        with open('BarnesNobel.pkl','wb') as outfile:\n",
    "            pickle.dump((ids,isbns,titles,authors,dates,editions,pages,saleRanks,edges),outfile)\n",
    "    else:\n",
    "        time.sleep(random.random()*2+1)"
   ]
  },
  {
   "cell_type": "code",
   "execution_count": null,
   "metadata": {
    "collapsed": true
   },
   "outputs": [],
   "source": [
    "while len(q)>0:\n",
    "    url=baseURL+q.popleft()\n",
    "    isbn=url.split('=')[-1]\n",
    "    if isbn in isbnSet:\n",
    "        continue\n",
    "    html = requests.get(url)\n",
    "    soup = bs(html.text)\n",
    "    ids.append(url.split('/')[-1].split('?')[0])\n",
    "    isbns.append(isbn)\n",
    "    isbnSet.add(isbn)\n",
    "    try:\n",
    "        titles.append(soup.findAll('h1',{'itemprop':\"name\"})[0].getText())\n",
    "    except:\n",
    "        titles.append('')\n",
    "    try:\n",
    "        authors.append(soup.find('span',{'class':\"contributors\"}).find('a').getText())\n",
    "    except:\n",
    "        authors.append('')\n",
    "    try:\n",
    "        dates.append(soup.find(\"dt\",text=\"Publication date:\").findNextSibling(\"dd\").getText())\n",
    "    except:\n",
    "        dates.append('')\n",
    "    try:\n",
    "        editions.append(soup.find(\"dt\",text=\"Edition description:\").findNextSibling(\"dd\").getText())\n",
    "    except:\n",
    "        editions.append('')\n",
    "    try:\n",
    "        pages.append(soup.find(\"dt\",text=\"Pages:\").findNextSibling(\"dd\").getText())\n",
    "    except:\n",
    "        pages.append('')\n",
    "    try:\n",
    "        saleRanks.append(soup.find(\"dt\",text=\"Sales rank:\").findNextSibling(\"dd\").getText())\n",
    "    except:\n",
    "        saleRanks.append('')\n",
    "    try:\n",
    "        recommendationURL='http://www.barnesandnoble.com/includes/bn-recommendation-content.jsp?count=100&fromWL=&title=Customers+Who+Bought+This+Item+Also+Bought&skuId={}&_={}'.format(isbns[-1],ids[-1])\n",
    "        html = requests.get(recommendationURL)\n",
    "        soup = bs(html.text)\n",
    "        for i in soup.find_all('a',{'class':\"book-carousel-link\"}):\n",
    "            u=i.get('href')\n",
    "            q.append(u)\n",
    "            edges.append((isbns[-1],u.split('=')[-1]))\n",
    "    except:\n",
    "        pass\n",
    "    iterations+=1\n",
    "    if iterations%10000==0:\n",
    "        with open('BarnesNobel.pkl','wb') as outfile:\n",
    "            pickle.dump((ids,isbns,titles,authors,dates,editions,pages,saleRanks,edges),outfile)\n",
    "    else:\n",
    "        time.sleep(random.random())"
   ]
  },
  {
   "cell_type": "code",
   "execution_count": 26,
   "metadata": {
    "collapsed": false
   },
   "outputs": [
    {
     "data": {
      "text/plain": [
       "(194773, 2912539)"
      ]
     },
     "execution_count": 26,
     "metadata": {},
     "output_type": "execute_result"
    }
   ],
   "source": [
    "iterations, len(q)"
   ]
  },
  {
   "cell_type": "code",
   "execution_count": null,
   "metadata": {
    "collapsed": true
   },
   "outputs": [],
   "source": [
    "iterations, len(q)"
   ]
  }
 ],
 "metadata": {
  "kernelspec": {
   "display_name": "Python 2",
   "language": "python",
   "name": "python2"
  },
  "language_info": {
   "codemirror_mode": {
    "name": "ipython",
    "version": 2
   },
   "file_extension": ".py",
   "mimetype": "text/x-python",
   "name": "python",
   "nbconvert_exporter": "python",
   "pygments_lexer": "ipython2",
   "version": "2.7.10"
  }
 },
 "nbformat": 4,
 "nbformat_minor": 0
}
