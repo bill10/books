{
 "cells": [
  {
   "cell_type": "code",
   "execution_count": 1,
   "metadata": {
    "collapsed": true
   },
   "outputs": [],
   "source": [
    "import pickle\n",
    "import requests\n",
    "import json\n",
    "import random\n",
    "from multiprocessing import Pool\n",
    "import time"
   ]
  },
  {
   "cell_type": "code",
   "execution_count": 2,
   "metadata": {
    "collapsed": true
   },
   "outputs": [],
   "source": [
    "isbn2disciplineDD=pickle.load(open('../Disciplines/isbn2disciplineDD.pkl'))\n",
    "isbn2disciplineLOC=pickle.load(open('../Disciplines/isbn2disciplineLOC.pkl'))\n",
    "isbns=set(isbn2disciplineDD.keys()) | set(isbn2disciplineLOC.keys())\n",
    "liberals=set()\n",
    "with open('../BookCodes/liberals_6_22.txt') as l:\n",
    "    for line in l:\n",
    "        liberals.add(line.strip())\n",
    "conservatives=set()\n",
    "with open('../BookCodes/conservatives_6_22.txt') as c:\n",
    "    for line in c:\n",
    "        conservatives.add(line.strip())\n",
    "isbns |= liberals\n",
    "isbns |= conservatives"
   ]
  },
  {
   "cell_type": "markdown",
   "metadata": {},
   "source": [
    "#### Convert using formula"
   ]
  },
  {
   "cell_type": "code",
   "execution_count": 16,
   "metadata": {
    "collapsed": true
   },
   "outputs": [],
   "source": [
    "isbns=list(isbns)\n",
    "isbn13=[]\n",
    "for isbn in isbns:\n",
    "    check=9*1 + 7*3 + 8*1\n",
    "    multiplier=3\n",
    "    for d in isbn[:-1]:\n",
    "        check += int(d)*multiplier\n",
    "        multiplier = 1 if multiplier==3 else 3\n",
    "    isbn13.append('978'+isbn[:-1]+str((10-check%10)%10))"
   ]
  },
  {
   "cell_type": "code",
   "execution_count": 18,
   "metadata": {
    "collapsed": false
   },
   "outputs": [
    {
     "data": {
      "text/plain": [
       "(u'0131690256', u'9780131690257')"
      ]
     },
     "execution_count": 18,
     "metadata": {},
     "output_type": "execute_result"
    }
   ],
   "source": [
    "random.choice(zip(isbns,isbn13))"
   ]
  },
  {
   "cell_type": "code",
   "execution_count": 19,
   "metadata": {
    "collapsed": false
   },
   "outputs": [],
   "source": [
    "with open('../AmazonBooks/isbn2isbn13.pkl','wb') as outfile:\n",
    "    pickle.dump(zip(isbns,isbn13),outfile)"
   ]
  },
  {
   "cell_type": "markdown",
   "metadata": {},
   "source": [
    "#### Convert by looking online"
   ]
  },
  {
   "cell_type": "code",
   "execution_count": 94,
   "metadata": {
    "collapsed": false
   },
   "outputs": [],
   "source": [
    "def convert(isbn):\n",
    "    query='request_data=%7B%22isbn%22%3A%22{}%22%7D&request_action_type=&request_code=isbn_convert'.format(isbn)\n",
    "    try:\n",
    "        r = requests.post('http://www.isbn.org/xmljson.php',params=query)\n",
    "        converted=''.join(r.json()['results']['converted_isbn'].split('-'))\n",
    "    except:\n",
    "        converted='ERROR'\n",
    "    time.sleep(random.random())\n",
    "    return converted"
   ]
  },
  {
   "cell_type": "code",
   "execution_count": null,
   "metadata": {
    "collapsed": true
   },
   "outputs": [],
   "source": [
    "pool=Pool(30)\n",
    "isbn13=pool.map(convert,list(isbns),len(isbns)/30)"
   ]
  }
 ],
 "metadata": {
  "kernelspec": {
   "display_name": "Python 2",
   "language": "python",
   "name": "python2"
  },
  "language_info": {
   "codemirror_mode": {
    "name": "ipython",
    "version": 2
   },
   "file_extension": ".py",
   "mimetype": "text/x-python",
   "name": "python",
   "nbconvert_exporter": "python",
   "pygments_lexer": "ipython2",
   "version": "2.7.10"
  }
 },
 "nbformat": 4,
 "nbformat_minor": 0
}
