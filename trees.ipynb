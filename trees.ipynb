{
 "cells": [
  {
   "cell_type": "markdown",
   "metadata": {},
   "source": [
    "# Classification Trees"
   ]
  },
  {
   "cell_type": "code",
   "execution_count": 2,
   "metadata": {
    "collapsed": true
   },
   "outputs": [],
   "source": [
    "import pickle\n",
    "import random\n",
    "import numpy as np\n",
    "from igraph import *\n",
    "from scipy import stats\n",
    "from scipy.special import cbrt\n",
    "import sqlite3 as lite"
   ]
  },
  {
   "cell_type": "markdown",
   "metadata": {},
   "source": [
    "### Create Classification Trees"
   ]
  },
  {
   "cell_type": "markdown",
   "metadata": {},
   "source": [
    "#### Create Dewey Decimal Tree"
   ]
  },
  {
   "cell_type": "markdown",
   "metadata": {},
   "source": [
    "* Build tree from raw text"
   ]
  },
  {
   "cell_type": "code",
   "execution_count": 4,
   "metadata": {
    "collapsed": true
   },
   "outputs": [],
   "source": [
    "T=Graph(directed=True)\n",
    "T.add_vertex('Books',label='Books')\n",
    "for line in open('../Classifications/dd.txt'):\n",
    "    data=line.strip().split()\n",
    "    T.add_vertex(data[0],label=' '.join(data[1:]))\n",
    "    if len(data[0])==1:\n",
    "        T.add_edge('Books',data[0])\n",
    "    else:\n",
    "        T.add_edge(data[0][:-1],data[0])       "
   ]
  },
  {
   "cell_type": "markdown",
   "metadata": {},
   "source": [
    "* Add science fields (not necessary)"
   ]
  },
  {
   "cell_type": "code",
   "execution_count": null,
   "metadata": {
    "collapsed": true
   },
   "outputs": [],
   "source": [
    "'''\n",
    "T.add_vertex('5Physical',label='Physical Sciences',kb=0,books=set(),kr=0)\n",
    "T.add_vertex('5Life',label='Life Scicences',kb=0,books=set(),kr=0)\n",
    "T.add_edge('5','5Physical')\n",
    "T.add_edge('5','5Life')\n",
    "\n",
    "v=T.vs.find(label='Astronomy')\n",
    "T.delete_edges(('5',v['name']))\n",
    "T.add_edge('5Physical',v['name'])\n",
    "\n",
    "v=T.vs.find(label='Physics')\n",
    "T.delete_edges(('5',v['name']))\n",
    "T.add_edge('5Physical',v['name'])\n",
    "\n",
    "v=T.vs.find(label='Chemistry')\n",
    "T.delete_edges(('5',v['name']))\n",
    "T.add_edge('5Physical',v['name'])\n",
    "\n",
    "v=T.vs.find(label='Earth sciences & geology')\n",
    "T.delete_edges(('5',v['name']))\n",
    "T.add_edge('5Physical',v['name'])\n",
    "\n",
    "v=T.vs.find(label='Fossils & prehistoric life')\n",
    "T.delete_edges(('5',v['name']))\n",
    "T.add_edge('5Life',v['name'])\n",
    "\n",
    "v=T.vs.find(label='Life sciences')\n",
    "T.delete_edges(('5',v['name']))\n",
    "T.add_edge('5Life',v['name'])\n",
    "\n",
    "v=T.vs.find(label='Plants')\n",
    "T.delete_edges(('5',v['name']))\n",
    "T.add_edge('5Life',v['name'])\n",
    "\n",
    "v=T.vs.find(label='Zoological sciences/Animals')\n",
    "T.delete_edges(('5',v['name']))\n",
    "T.add_edge('5Life',v['name'])\n",
    "'''"
   ]
  },
  {
   "cell_type": "code",
   "execution_count": 5,
   "metadata": {
    "collapsed": true
   },
   "outputs": [],
   "source": [
    "pickle.dump(T,open('../Classifications/dd_tree.pkl','wb'))"
   ]
  },
  {
   "cell_type": "markdown",
   "metadata": {},
   "source": [
    "#### Create the Library of Congress Tree"
   ]
  },
  {
   "cell_type": "markdown",
   "metadata": {},
   "source": [
    "* Build tree from raw text"
   ]
  },
  {
   "cell_type": "code",
   "execution_count": 6,
   "metadata": {
    "collapsed": true
   },
   "outputs": [],
   "source": [
    "T=Graph(directed=True)\n",
    "T.add_vertex('Books',label='Books')\n",
    "level2=''\n",
    "level3=''\n",
    "level4=''\n",
    "level5=''\n",
    "level6=''\n",
    "infile=open('../Classifications/loc_fix.txt')\n",
    "for line in infile:\n",
    "    if not line.strip():\n",
    "        continue\n",
    "    if line[0]=='?':\n",
    "        continue\n",
    "    data=line.strip().split()\n",
    "    if data[0]=='LIBRARY':\n",
    "        continue\n",
    "    if data[0]=='Subclass':\n",
    "        continue\n",
    "    if data[0]=='CLASS':\n",
    "        T.add_vertex(data[1],label=' '.join(data[3:]))\n",
    "        T.add_edge('Books',data[1])\n",
    "    else:\n",
    "        if line[0]==' ':\n",
    "            continue\n",
    "        if line[0]=='\\t':\n",
    "            continue\n",
    "        if line.count('\\t')==1:\n",
    "            T.add_vertex(data[0],label=' '.join(data[1:]))\n",
    "            if line[0]=='F':\n",
    "                T.add_edge('E',data[0])\n",
    "            else:\n",
    "                T.add_edge(line[0],data[0])\n",
    "            level2=data[0]\n",
    "        elif line.count('\\t')==2:\n",
    "            T.add_vertex(data[0],label=' '.join(data[1:]))\n",
    "            T.add_edge(level2,data[0])\n",
    "            level3=data[0]\n",
    "        elif line.count('\\t')==3:\n",
    "            T.add_vertex(data[0],label=' '.join(data[1:]))\n",
    "            T.add_edge(level3,data[0])\n",
    "            level4=data[0]\n",
    "        elif line.count('\\t')==4:\n",
    "            T.add_vertex(data[0],label=' '.join(data[1:]))\n",
    "            T.add_edge(level4,data[0])\n",
    "#            level5=data[0]\n",
    "#        elif line.count('\\t')==5:\n",
    "#            T.add_edge(level5,data[0])\n",
    "#            level6=data[0]\n",
    "#        elif line.count('\\t')==6:\n",
    "#            T.add_edge(level6,data[0])\n",
    "\n",
    "infile.close() \n",
    "for t in T.vs:\n",
    "    t['label']=t['label'].replace('\\x1e','-')"
   ]
  },
  {
   "cell_type": "code",
   "execution_count": 7,
   "metadata": {
    "collapsed": true
   },
   "outputs": [],
   "source": [
    "pickle.dump(T,open('../Classifications/loc_tree.pkl','wb'))"
   ]
  },
  {
   "cell_type": "markdown",
   "metadata": {},
   "source": [
    "#### Create Amazon Tree"
   ]
  },
  {
   "cell_type": "markdown",
   "metadata": {},
   "source": [
    "* Build tree from raw data"
   ]
  },
  {
   "cell_type": "code",
   "execution_count": 10,
   "metadata": {
    "collapsed": true
   },
   "outputs": [],
   "source": [
    "amazon_db = lite.connect(\"amazon.db\")\n",
    "amazon_db.text_factory = str\n",
    "cur=amazon_db.cursor()\n",
    "cur.execute(\"select id, isbn, c1,c2,c3,c4,c5,c6,c7,c8,c9,c10 from unique_book_attribute\")\n",
    "book_entries = cur.fetchall()\n",
    "topics = set()\n",
    "for entry in book_entries:\n",
    "    topics.update(entry[2:12])\n",
    "topics.discard('');\n",
    "topics.discard(None);\n",
    "\n",
    "T=Graph(directed=True)\n",
    "nodes=set()\n",
    "for key in topics:\n",
    "    t=key.strip().split('>>')\n",
    "    if t[0] not in nodes:\n",
    "        nodes.add(t[0])\n",
    "        T.add_vertex(t[0],label=t[0])\n",
    "    for i in xrange(1,len(t)):\n",
    "        name='>>'.join(t[:(i+1)])\n",
    "        if name not in nodes:\n",
    "            nodes.add(name)\n",
    "            T.add_vertex(name,label=t[i])\n",
    "            T.add_edge('>>'.join(t[:i]),name)"
   ]
  },
  {
   "cell_type": "markdown",
   "metadata": {},
   "source": [
    "* Add fiction and nonfiction nodes (not neccessary)"
   ]
  },
  {
   "cell_type": "code",
   "execution_count": null,
   "metadata": {
    "collapsed": true
   },
   "outputs": [],
   "source": [
    "'''\n",
    "T.add_vertex('Books>>Fiction',label='Fiction')\n",
    "T.add_vertex('Books>>NonFiction',label='NonFiction')\n",
    "for u in T.vs[0].neighbors():\n",
    "    if u['name']==\"Books>>Calendars\" or u['name']==\"Books>>Science&Math\" or u['name']==\"Books>>Politics&SocialSciences\":\n",
    "        pass\n",
    "    else:\n",
    "        T.delete_edges(('Books',u['name']))\n",
    "        T.add_edge('Books>>NonFiction',u['name'])\n",
    "\n",
    "T.add_edge('Books','Books>>Fiction')\n",
    "T.add_edge('Books','Books>>NonFiction')\n",
    "v=T.vs.find('Books>>Religion&Spirituality')\n",
    "T.add_vertex(name='Books>>Fiction>>Religion&Spirituality',label=v['label'])\n",
    "T.add_edge('Books>>Fiction','Books>>Fiction>>Religion&Spirituality')\n",
    "T.delete_edges(('Books>>Religion&Spirituality','Books>>Religion&Spirituality>>Fiction'))\n",
    "T.add_edge('Books>>Fiction>>Religion&Spirituality','Books>>Religion&Spirituality>>Fiction')\n",
    "\n",
    "v=T.vs.find(\"Books>>Children'sBooks\")\n",
    "T.add_vertex(name=\"Books>>Fiction>>Children'sBooks\",label=v['label'])\n",
    "T.add_edge('Books>>Fiction',\"Books>>Fiction>>Children'sBooks\")\n",
    "T.delete_edges((\"Books>>Children'sBooks\",\"Books>>Children'sBooks>>Literature&Fiction\"))\n",
    "T.add_edge(\"Books>>Fiction>>Children'sBooks\",\"Books>>Children'sBooks>>Literature&Fiction\")\n",
    "T.delete_edges((\"Books>>Children'sBooks\",\"Books>>Children'sBooks>>FairyTales,FolkTales&Myths\"))\n",
    "T.add_edge(\"Books>>Fiction>>Children'sBooks\",\"Books>>Children'sBooks>>FairyTales,FolkTales&Myths\")\n",
    "T.delete_edges((\"Books>>Children'sBooks\",\"Books>>Children'sBooks>>ScienceFiction&Fantasy\"))\n",
    "T.add_edge(\"Books>>Fiction>>Children'sBooks\",\"Books>>Children'sBooks>>ScienceFiction&Fantasy\")\n",
    "\n",
    "T.delete_edges((\"Books>>NonFiction\",\"Books>>Literature&Fiction\"))\n",
    "T.add_edge('Books>>Fiction',\"Books>>Literature&Fiction\")\n",
    "\n",
    "v=T.vs.find(\"Books>>Teens\")\n",
    "T.add_vertex(name=\"Books>>Fiction>>Teens\",label=v['label'])\n",
    "T.add_edge('Books>>Fiction',\"Books>>Fiction>>Teens\")\n",
    "T.delete_edges((\"Books>>Teens\",\"Books>>Teens>>ScienceFiction&Fantasy\"))\n",
    "T.add_edge('Books>>Fiction>>Teens',\"Books>>Teens>>ScienceFiction&Fantasy\")\n",
    "T.delete_edges((\"Books>>Teens\",\"Books>>Teens>>Literature&Fiction\"))\n",
    "T.add_edge('Books>>Fiction>>Teens',\"Books>>Teens>>Literature&Fiction\")\n",
    "\n",
    "v=T.vs.find(\"Books>>ChristianBooks&Bibles\")\n",
    "T.add_vertex(name=\"Books>>Fiction>>ChristianBooks&Bibles\",label=v['label'])\n",
    "T.add_edge('Books>>Fiction',\"Books>>Fiction>>ChristianBooks&Bibles\")\n",
    "T.delete_edges((\"Books>>ChristianBooks&Bibles\",\"Books>>ChristianBooks&Bibles>>Literature&Fiction\"))\n",
    "T.add_edge('Books>>Fiction>>ChristianBooks&Bibles',\"Books>>ChristianBooks&Bibles>>Literature&Fiction\")\n",
    "\n",
    "v=T.vs.find(\"Books>>Gay&Lesbian\")\n",
    "T.add_vertex(name=\"Books>>Fiction>>Gay&Lesbian\",label=v['label'])\n",
    "T.add_edge('Books>>Fiction',\"Books>>Fiction>>Gay&Lesbian\")\n",
    "T.delete_edges((\"Books>>Gay&Lesbian\",\"Books>>Gay&Lesbian>>Literature&Fiction\"))\n",
    "T.add_edge('Books>>Fiction>>Gay&Lesbian',\"Books>>Gay&Lesbian>>Literature&Fiction\")\n",
    "\n",
    "T.delete_edges((\"Books>>NonFiction\",\"Books>>Mystery,Thriller&Suspense\"))\n",
    "T.add_edge('Books>>Fiction',\"Books>>Mystery,Thriller&Suspense\")\n",
    "T.delete_edges((\"Books>>NonFiction\",\"Books>>Comics&GraphicNovels\"))\n",
    "T.add_edge('Books>>Fiction',\"Books>>Comics&GraphicNovels\")\n",
    "T.delete_edges((\"Books>>NonFiction\",\"Books>>Romance\"))\n",
    "T.add_edge('Books>>Fiction',\"Books>>Romance\")\n",
    "T.delete_edges((\"Books>>NonFiction\",\"Books>>ScienceFiction&Fantasy\"))\n",
    "T.add_edge('Books>>Fiction',\"Books>>ScienceFiction&Fantasy\")\n",
    "'''"
   ]
  },
  {
   "cell_type": "code",
   "execution_count": 11,
   "metadata": {
    "collapsed": true
   },
   "outputs": [],
   "source": [
    "pickle.dump(T,open('../Classifications/amazon_tree.pkl','wb'))"
   ]
  },
  {
   "cell_type": "markdown",
   "metadata": {},
   "source": [
    "#### Create json files from the trees"
   ]
  },
  {
   "cell_type": "code",
   "execution_count": 12,
   "metadata": {
    "collapsed": true
   },
   "outputs": [],
   "source": [
    "def makeJSON(T,filename):    \n",
    "    def traverse(node,depth):\n",
    "        if T.vs[node].degree(OUT)>0:      \n",
    "            outfile.write(depth*'\\t'+'{{ \"name\" : \"{}\", \"children\" : [\\n'.format(T.vs[node]['label']))\n",
    "            for u in T.neighbors(node,OUT)[:-1]:\n",
    "                traverse(u,depth+1)\n",
    "                outfile.write(',\\n')\n",
    "            traverse(T.neighbors(node,OUT)[-1],depth+1)\n",
    "            outfile.write('\\n')\n",
    "            outfile.write(depth*'\\t'+'] }')\n",
    "        else:\n",
    "            outfile.write(depth*'\\t'+'{{ \"name\" : \"{}\" }}'.format(T.vs[node]['label']))\n",
    "    \n",
    "    with open(filename,'w') as outfile:\n",
    "        traverse(0,0)"
   ]
  },
  {
   "cell_type": "code",
   "execution_count": 14,
   "metadata": {
    "collapsed": true
   },
   "outputs": [],
   "source": [
    "makeJSON(pickle.load(open('../Classifications/dd_tree.pkl')),'dd.json')\n",
    "makeJSON(pickle.load(open('../Classifications/amazon_tree.pkl')),'amazon.json')\n",
    "makeJSON(pickle.load(open('../Classifications/loc_tree.pkl')),'loc.json')"
   ]
  }
 ],
 "metadata": {
  "kernelspec": {
   "display_name": "Python 2",
   "language": "python",
   "name": "python2"
  },
  "language_info": {
   "codemirror_mode": {
    "name": "ipython",
    "version": 2
   },
   "file_extension": ".py",
   "mimetype": "text/x-python",
   "name": "python",
   "nbconvert_exporter": "python",
   "pygments_lexer": "ipython2",
   "version": "2.7.9"
  }
 },
 "nbformat": 4,
 "nbformat_minor": 0
}
