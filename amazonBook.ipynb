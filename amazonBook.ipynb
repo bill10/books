{
 "cells": [
  {
   "cell_type": "markdown",
   "metadata": {},
   "source": [
    "# Copurchase Network of Amazon Books"
   ]
  },
  {
   "cell_type": "code",
   "execution_count": 1,
   "metadata": {
    "collapsed": true
   },
   "outputs": [],
   "source": [
    "import pickle\n",
    "import numpy as np\n",
    "from igraph import *\n",
    "import sqlite3 as lite"
   ]
  },
  {
   "cell_type": "markdown",
   "metadata": {},
   "source": [
    "### Create edge list of books"
   ]
  },
  {
   "cell_type": "markdown",
   "metadata": {},
   "source": [
    "#### Connect to database"
   ]
  },
  {
   "cell_type": "code",
   "execution_count": 3,
   "metadata": {
    "collapsed": true
   },
   "outputs": [],
   "source": [
    "amazon_db = lite.connect(\"../AmazonBooks/amazon.db\")\n",
    "amazon_db.text_factory = str\n",
    "cur=amazon_db.cursor()\n",
    "cur.execute(\"select book1, book2 from cop_list\")\n",
    "items = cur.fetchall()   "
   ]
  },
  {
   "cell_type": "markdown",
   "metadata": {},
   "source": [
    "#### Convert ISBN to ASIN"
   ]
  },
  {
   "cell_type": "markdown",
   "metadata": {},
   "source": [
    "ASIN is the identifier for books used by Amazon. Different editions of a book have different ISBNs, but comform to the same one ASIN."
   ]
  },
  {
   "cell_type": "code",
   "execution_count": 12,
   "metadata": {
    "collapsed": false
   },
   "outputs": [],
   "source": [
    "isbn2asin = pickle.load(open('../AmazonBooks/isbn_lookup.pkl'))\n",
    "edgeList=map(lambda x: (isbn2asin[x[0]], isbn2asin[x[1]]), items)"
   ]
  },
  {
   "cell_type": "markdown",
   "metadata": {},
   "source": [
    "### Create copurchase network of books"
   ]
  },
  {
   "cell_type": "code",
   "execution_count": 28,
   "metadata": {
    "collapsed": false
   },
   "outputs": [
    {
     "data": {
      "text/plain": [
       "<igraph.Graph at 0x7fd285cf6050>"
      ]
     },
     "execution_count": 28,
     "metadata": {},
     "output_type": "execute_result"
    }
   ],
   "source": [
    "asin2id=dict(zip(list(set(isbn2asin.values())),range(len(set(isbn2asin.values())))))\n",
    "g = Graph()\n",
    "g.add_vertices(list(set(isbn2asin.values())))\n",
    "g.add_edges(edgeList)\n",
    "g.simplify()"
   ]
  },
  {
   "cell_type": "code",
   "execution_count": 56,
   "metadata": {
    "collapsed": false
   },
   "outputs": [],
   "source": [
    "cur.execute(\"select isbn, title, rank from unique_book_attribute\")\n",
    "book_entries = cur.fetchall()\n",
    "for book in book_entries:\n",
    "    g.vs[asin2id[isbn2asin[book[0]]]]['title']=book[1]"
   ]
  },
  {
   "cell_type": "code",
   "execution_count": 58,
   "metadata": {
    "collapsed": true
   },
   "outputs": [],
   "source": [
    "with open('../AmazonBooks/asin_network.pkl','wb') as outfile:\n",
    "    pickle.dump(g,outfile)\n",
    "pickle.dump(asin2id,open('../AmazonBooks/asin2id.pkl','wb'))"
   ]
  },
  {
   "cell_type": "code",
   "execution_count": 3,
   "metadata": {
    "collapsed": true
   },
   "outputs": [],
   "source": [
    "amazon_db = lite.connect(\"../AmazonBooks/amazon.db\")\n",
    "amazon_db.text_factory = str\n",
    "cur=amazon_db.cursor()\n",
    "cur.execute(\"select isbn, title, rank from unique_book_attribute\")\n",
    "book_entries = cur.fetchall()\n",
    "isbns,titles,ranks=zip(*book_entries)"
   ]
  },
  {
   "cell_type": "code",
   "execution_count": 4,
   "metadata": {
    "collapsed": true
   },
   "outputs": [],
   "source": [
    "bookTitles=dict(zip(isbns,titles))\n",
    "bookRanks=dict(zip(isbns,ranks))"
   ]
  },
  {
   "cell_type": "code",
   "execution_count": 5,
   "metadata": {
    "collapsed": true
   },
   "outputs": [],
   "source": [
    "liberals=set()\n",
    "with open('../BookCodes/liberals.txt') as l:\n",
    "    for line in l:\n",
    "        liberals.add(line.strip())\n",
    "\n",
    "conservatives=set()\n",
    "with open('../BookCodes/conservatives.txt') as c:\n",
    "    for line in c:\n",
    "        conservatives.add(line.strip())"
   ]
  },
  {
   "cell_type": "code",
   "execution_count": 22,
   "metadata": {
    "collapsed": false
   },
   "outputs": [],
   "source": [
    "titleRanks=dict()\n",
    "for i in conservatives:\n",
    "    titleRanks[bookTitles[i]]=bookRanks[i]\n",
    "    \n",
    "df=pd.DataFrame(sorted(titleRanks.items(),key=lambda x:x[1]))\n",
    "df.to_csv('../AmazonBooks/conservativeBooks.tsv', sep='\\t', index=False)"
   ]
  },
  {
   "cell_type": "code",
   "execution_count": 13,
   "metadata": {
    "collapsed": true
   },
   "outputs": [],
   "source": [
    "import pandas as pd"
   ]
  }
 ],
 "metadata": {
  "kernelspec": {
   "display_name": "Python 2",
   "language": "python",
   "name": "python2"
  },
  "language_info": {
   "codemirror_mode": {
    "name": "ipython",
    "version": 2
   },
   "file_extension": ".py",
   "mimetype": "text/x-python",
   "name": "python",
   "nbconvert_exporter": "python",
   "pygments_lexer": "ipython2",
   "version": "2.7.9"
  }
 },
 "nbformat": 4,
 "nbformat_minor": 0
}
