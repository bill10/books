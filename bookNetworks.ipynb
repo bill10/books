{
 "cells": [
  {
   "cell_type": "markdown",
   "metadata": {},
   "source": [
    "# Contruct Book Networks"
   ]
  },
  {
   "cell_type": "code",
   "execution_count": 86,
   "metadata": {
    "collapsed": true
   },
   "outputs": [],
   "source": [
    "import pickle\n",
    "import numpy as np\n",
    "from igraph import *\n",
    "import sqlite3 as lite\n",
    "from collections import Counter\n",
    "from scipy.stats import pearsonr\n",
    "%matplotlib inline\n",
    "import pylab as plt\n",
    "import seaborn as sns\n",
    "import pandas as pd\n",
    "from scipy.stats import ks_2samp"
   ]
  },
  {
   "cell_type": "markdown",
   "metadata": {},
   "source": [
    "### Amazon books"
   ]
  },
  {
   "cell_type": "markdown",
   "metadata": {},
   "source": [
    "#### Connect to database"
   ]
  },
  {
   "cell_type": "code",
   "execution_count": 2,
   "metadata": {
    "collapsed": false
   },
   "outputs": [],
   "source": [
    "amazon_db = lite.connect(\"../AmazonBooks/amazon.db\")\n",
    "amazon_db.text_factory = str\n",
    "cur=amazon_db.cursor()"
   ]
  },
  {
   "cell_type": "markdown",
   "metadata": {},
   "source": [
    "#### Index books"
   ]
  },
  {
   "cell_type": "code",
   "execution_count": 3,
   "metadata": {
    "collapsed": true
   },
   "outputs": [],
   "source": [
    "cur.execute(\"select id, isbn, c1,c2,c3,c4,c5,c6,c7,c8,c9,c10 from unique_book_attribute\")\n",
    "book_entries = cur.fetchall()\n",
    "isbn2id=dict()\n",
    "id2isbn=dict()\n",
    "count=0  # in igraph index of vertices starts from 0!\n",
    "for item in book_entries:\n",
    "    isbn2id[item[1]] = count\n",
    "    id2isbn[count] = item[1]\n",
    "    count+=1\n",
    "\n",
    "#with open('../AmazonBooks/isbn2id.pkl','wb') as outfile:\n",
    "#    pickle.dump(isbn2id,outfile)\n",
    "\n",
    "#with open('../AmazonBooks/id2isbn.pkl','wb') as outfile:\n",
    "#    pickle.dump(id2isbn,outfile)"
   ]
  },
  {
   "cell_type": "markdown",
   "metadata": {},
   "source": [
    "#### Index topics"
   ]
  },
  {
   "cell_type": "code",
   "execution_count": 4,
   "metadata": {
    "collapsed": true
   },
   "outputs": [],
   "source": [
    "topics = set()\n",
    "for entry in book_entries:\n",
    "    topics.update(entry[2:12])\n",
    "\n",
    "topics.discard('');\n",
    "topics.discard(None);\n",
    "topics=list(topics)\n",
    "topics.sort()\n",
    "id2topic = dict() \n",
    "topic2id = dict() \n",
    "count=0\n",
    "for t in topics:\n",
    "    id2topic[count] = t\n",
    "    topic2id[t] = count\n",
    "    count+=1\n",
    "\n",
    "#with open('../AmazonBooks/id2topic.pkl','wb') as outfile:\n",
    "#    pickle.dump(id2topic,outfile)\n",
    "\n",
    "#with open('../AmazonBooks/topic2id.pkl','wb') as outfile:\n",
    "#    pickle.dump(topic2id,outfile)"
   ]
  },
  {
   "cell_type": "markdown",
   "metadata": {},
   "source": [
    "#### Create edge list of books"
   ]
  },
  {
   "cell_type": "code",
   "execution_count": null,
   "metadata": {
    "collapsed": true
   },
   "outputs": [],
   "source": [
    "cur.execute(\"select book1, book2 from cop_list\")\n",
    "items = cur.fetchall()    \n",
    "outfile = open('../AmazonBooks/edgelist_books.txt','w') \n",
    "count=0\n",
    "with outfile:\n",
    "    for item in items:\n",
    "        count+=1\n",
    "        if count%100000==0:\n",
    "            print count\n",
    "        nd1 = isbn2id[item[0]] \t\n",
    "        nd2 = isbn2id[item[1]] \n",
    "        outfile.write(str(nd1)+\" \"+str(nd2)+\"\\n\")"
   ]
  },
  {
   "cell_type": "markdown",
   "metadata": {},
   "source": [
    "#### Create copurchase network"
   ]
  },
  {
   "cell_type": "code",
   "execution_count": 5,
   "metadata": {
    "collapsed": false
   },
   "outputs": [],
   "source": [
    "g = Graph.Read_Edgelist(\"../AmazonBooks/edgelist_books.txt\",directed=False)\n",
    "g.simplify();"
   ]
  },
  {
   "cell_type": "markdown",
   "metadata": {},
   "source": [
    "#### Annotate nodes attributes"
   ]
  },
  {
   "cell_type": "code",
   "execution_count": 7,
   "metadata": {
    "collapsed": true
   },
   "outputs": [],
   "source": [
    "for item in book_entries:\n",
    "    topics = set()\n",
    "    for t in item[2:12]:\n",
    "        if t in topic2id:\n",
    "            topics.add(topic2id[t])\n",
    "    g.vs[isbn2id[item[1]]]['topics'] = list(topics)\n",
    "\n",
    "cur.execute(\"select isbn, title, rank, publisher, price from unique_book_attribute\")\n",
    "book_entries = cur.fetchall()\n",
    "isbn,title,rank, publisher, price=zip(*book_entries)\n",
    "g.vs['isbn']=isbn\n",
    "g.vs['title']=title\n",
    "g.vs['rank']=rank\n",
    "sales=np.array(rank,dtype=float)\n",
    "sales[sales>0]=np.exp(8.046-0.613*np.log(sales[sales>0]))\n",
    "g.vs['sales']=sales\n",
    "g.vs['publisher']=publisher\n",
    "g.vs['price']=price"
   ]
  },
  {
   "cell_type": "code",
   "execution_count": null,
   "metadata": {
    "collapsed": true
   },
   "outputs": [],
   "source": [
    "with open('../AmazonBooks/isbn_network.pkl','wb') as outfile:\n",
    "    pickle.dump(g,outfile)"
   ]
  },
  {
   "cell_type": "code",
   "execution_count": null,
   "metadata": {
    "collapsed": true
   },
   "outputs": [],
   "source": [
    "cur.execute(\"select isbn, publisher, price from unique_book_attribute\")\n",
    "book_entries = cur.fetchall()"
   ]
  },
  {
   "cell_type": "code",
   "execution_count": null,
   "metadata": {
    "collapsed": false
   },
   "outputs": [],
   "source": [
    "isbn2pub={}\n",
    "for entry in book_entries:\n",
    "    isbn2pub[entry[0]]=entry[1].split('(')[0].split(';')[0].strip()\n",
    "with open(\"../AmazonBooks/isbn2publisher.pkl\",\"wb\") as outfile:\n",
    "    pickle.dump(isbn2pub,outfile)"
   ]
  },
  {
   "cell_type": "code",
   "execution_count": null,
   "metadata": {
    "collapsed": true
   },
   "outputs": [],
   "source": [
    "isbn2price={}\n",
    "for entry in book_entries:\n",
    "    isbn2price[entry[0]]=entry[2]\n",
    "with open(\"../AmazonBooks/isbn2price.pkl\",\"wb\") as outfile:\n",
    "    pickle.dump(isbn2price,outfile)"
   ]
  },
  {
   "cell_type": "markdown",
   "metadata": {},
   "source": [
    "### Statistics"
   ]
  },
  {
   "cell_type": "code",
   "execution_count": 8,
   "metadata": {
    "collapsed": false
   },
   "outputs": [
    {
     "data": {
      "text/plain": [
       "'IGRAPH U--- 1449525 28585786 -- \\n+ attr: isbn (v), price (v), publisher (v), rank (v), sales (v), title (v), topics (v)'"
      ]
     },
     "execution_count": 8,
     "metadata": {},
     "output_type": "execute_result"
    }
   ],
   "source": [
    "g.summary()"
   ]
  },
  {
   "cell_type": "markdown",
   "metadata": {},
   "source": [
    "#### Sales v.s. recommendation"
   ]
  },
  {
   "cell_type": "code",
   "execution_count": 8,
   "metadata": {
    "collapsed": true
   },
   "outputs": [],
   "source": [
    "cur.execute(\"select book1, book2 from cop_list\")\n",
    "items = cur.fetchall()  \n",
    "adjlist={}\n",
    "for i in items:\n",
    "    if i[0] not in adjlist:\n",
    "        adjlist[i[0]]=[]\n",
    "    adjlist[i[0]].append(isbn2id[i[1]])"
   ]
  },
  {
   "cell_type": "code",
   "execution_count": 50,
   "metadata": {
    "collapsed": true
   },
   "outputs": [],
   "source": [
    "corr=map(lambda x: [x[0]]+list(pearsonr(xrange(len(x[1])),[g.vs[i]['rank'] for i in x[1]])), adjlist.iteritems())\n",
    "corr=pd.DataFrame(corr)\n",
    "corr=corr.dropna()\n",
    "corr['degree']=g.vs[map(lambda x: isbn2id[x], corr[0])].degree()"
   ]
  },
  {
   "cell_type": "code",
   "execution_count": 56,
   "metadata": {
    "collapsed": false
   },
   "outputs": [
    {
     "data": {
      "text/plain": [
       "<matplotlib.text.Text at 0x7f9ef03c95d0>"
      ]
     },
     "execution_count": 56,
     "metadata": {},
     "output_type": "execute_result"
    },
    {
     "data": {
      "image/png": "[encoded data removed]",
      "text/plain": [
       "<matplotlib.figure.Figure at 0x7f9ef04ded50>"
      ]
     },
     "metadata": {},
     "output_type": "display_data"
    }
   ],
   "source": [
    "plt.hist(corr[corr['degree']>10][1],50);\n",
    "plt.xlabel('Correlation between recommendation order and sale rank')\n",
    "plt.ylabel('Frequency')"
   ]
  },
  {
   "cell_type": "code",
   "execution_count": 74,
   "metadata": {
    "collapsed": false
   },
   "outputs": [
    {
     "data": {
      "text/plain": [
       "<matplotlib.text.Text at 0x7f9eef5bf3d0>"
      ]
     },
     "execution_count": 74,
     "metadata": {},
     "output_type": "execute_result"
    },
    {
     "data": {
      "image/png": "[encoded data removed]",
      "text/plain": [
       "<matplotlib.figure.Figure at 0x7f9ef004eed0>"
      ]
     },
     "metadata": {},
     "output_type": "display_data"
    }
   ],
   "source": [
    "plt.hist(np.log(corr[corr['degree']>10][2]+0.001),100);\n",
    "plt.xlabel('p-value')\n",
    "plt.ylabel('Frequency')"
   ]
  },
  {
   "cell_type": "code",
   "execution_count": 45,
   "metadata": {
    "collapsed": false
   },
   "outputs": [
    {
     "data": {
      "text/plain": [
       "Counter({2: 26381, 3: 2732, 4: 436, 5: 112, 6: 38, 7: 19, 8: 4, 9: 3, 44: 1, 13: 1, 108: 1, 23: 1, 24: 1, 28: 1})"
      ]
     },
     "execution_count": 45,
     "metadata": {},
     "output_type": "execute_result"
    }
   ],
   "source": [
    "Counter(g.vs[map(lambda x: isbn2id[x], corr[corr[1]==-1][0])].degree())"
   ]
  },
  {
   "cell_type": "markdown",
   "metadata": {},
   "source": [
    "#### Sales of blue and red books"
   ]
  },
  {
   "cell_type": "code",
   "execution_count": 139,
   "metadata": {
    "collapsed": true
   },
   "outputs": [],
   "source": [
    "cur.execute(\"select isbn, rank from unique_book_attribute\")\n",
    "book_entries = cur.fetchall()\n",
    "pubrank=dict(book_entries)"
   ]
  },
  {
   "cell_type": "code",
   "execution_count": 146,
   "metadata": {
    "collapsed": false
   },
   "outputs": [],
   "source": [
    "liberals={}\n",
    "with open('../BookCodes/liberals1008.txt') as l:\n",
    "    for line in l:\n",
    "        if line.strip() in pubrank:\n",
    "            if int(pubrank[line.strip()])>0:\n",
    "                rank=int(pubrank[line.strip()])#np.exp(8.046-0.613*np.log(int(pubrank[line.strip()])))#\n",
    "            else:\n",
    "                rank=0\n",
    "            liberals[line.strip()]=rank\n",
    "        else:\n",
    "            print '{} not in database'.format(line)\n",
    "\n",
    "conservatives={}\n",
    "with open('../BookCodes/conservatives1008.txt') as c:\n",
    "    for line in c:\n",
    "        if line.strip() in pubrank:\n",
    "            if int(pubrank[line.strip()])>0:\n",
    "                rank=int(pubrank[line.strip()])#np.exp(8.046-0.613*np.log(int(pubrank[line.strip()])))#\n",
    "            else:\n",
    "                rank=0\n",
    "            conservatives[line.strip()]=rank\n",
    "        else:\n",
    "            print '{} not in database'.format(line)"
   ]
  },
  {
   "cell_type": "code",
   "execution_count": 147,
   "metadata": {
    "collapsed": false
   },
   "outputs": [
    {
     "data": {
      "text/plain": [
       "(1126532.1777434312, 857419.6927939317)"
      ]
     },
     "execution_count": 147,
     "metadata": {},
     "output_type": "execute_result"
    }
   ],
   "source": [
    "np.mean(liberals.values()),np.mean(conservatives.values())"
   ]
  },
  {
   "cell_type": "code",
   "execution_count": 148,
   "metadata": {
    "collapsed": false
   },
   "outputs": [
    {
     "data": {
      "text/plain": [
       "(928030.0, 670603.0)"
      ]
     },
     "execution_count": 148,
     "metadata": {},
     "output_type": "execute_result"
    }
   ],
   "source": [
    "np.median(liberals.values()),np.median(conservatives.values())"
   ]
  },
  {
   "cell_type": "code",
   "execution_count": 150,
   "metadata": {
    "collapsed": false
   },
   "outputs": [
    {
     "data": {
      "image/png": "[encoded data removed]",
      "text/plain": [
       "<matplotlib.figure.Figure at 0x7fd2463ab090>"
      ]
     },
     "metadata": {},
     "output_type": "display_data"
    }
   ],
   "source": [
    "plt.hist([liberals.values(),conservatives.values()],30,log=False);"
   ]
  },
  {
   "cell_type": "code",
   "execution_count": 184,
   "metadata": {
    "collapsed": true
   },
   "outputs": [],
   "source": [
    "x=np.array(liberals.values())\n",
    "y=np.array(conservatives.values())\n",
    "x=x[x!=0]\n",
    "y=y[y!=0]\n",
    "x=x[x<1000000]\n",
    "y=y[y<1000000]"
   ]
  },
  {
   "cell_type": "code",
   "execution_count": 185,
   "metadata": {
    "collapsed": false
   },
   "outputs": [
    {
     "data": {
      "image/png": "[encoded data removed]",
      "text/plain": [
       "<matplotlib.figure.Figure at 0x7fd250732290>"
      ]
     },
     "metadata": {},
     "output_type": "display_data"
    }
   ],
   "source": [
    "plt.hist([x,y],30,log=False);"
   ]
  },
  {
   "cell_type": "code",
   "execution_count": 186,
   "metadata": {
    "collapsed": false
   },
   "outputs": [
    {
     "data": {
      "text/plain": [
       "(0.086126605885954721, 0.088442610125037152)"
      ]
     },
     "execution_count": 186,
     "metadata": {},
     "output_type": "execute_result"
    }
   ],
   "source": [
    "ks_2samp(x,y)"
   ]
  },
  {
   "cell_type": "markdown",
   "metadata": {},
   "source": [
    "#### Publication year"
   ]
  },
  {
   "cell_type": "code",
   "execution_count": 123,
   "metadata": {
    "collapsed": false
   },
   "outputs": [],
   "source": [
    "cur.execute(\"select isbn, publisher from unique_book_attribute\")\n",
    "book_entries = cur.fetchall()\n",
    "pubYear=dict(book_entries)"
   ]
  },
  {
   "cell_type": "code",
   "execution_count": 11,
   "metadata": {
    "collapsed": true
   },
   "outputs": [],
   "source": [
    "import re"
   ]
  },
  {
   "cell_type": "code",
   "execution_count": 124,
   "metadata": {
    "collapsed": true
   },
   "outputs": [],
   "source": [
    "prog = re.compile(r'\\d{4}')"
   ]
  },
  {
   "cell_type": "code",
   "execution_count": 125,
   "metadata": {
    "collapsed": false
   },
   "outputs": [],
   "source": [
    "liberals={}\n",
    "with open('../BookCodes/liberals1008.txt') as l:\n",
    "    for line in l:\n",
    "        if line.strip() in pubYear:\n",
    "            try:\n",
    "                year=int(prog.search(pubYear[line.strip()]).group())\n",
    "            except:\n",
    "                year=0\n",
    "            liberals[line.strip()]=year\n",
    "        else:\n",
    "            print '{} not in database'.format(line)\n",
    "\n",
    "conservatives={}\n",
    "with open('../BookCodes/conservatives1008.txt') as c:\n",
    "    for line in c:\n",
    "        if line.strip() in pubYear:\n",
    "            try:\n",
    "                year=int(prog.search(pubYear[line.strip()]).group())\n",
    "            except:\n",
    "                year=0\n",
    "            conservatives[line.strip()]=year\n",
    "        else:\n",
    "            print '{} not in database'.format(line)"
   ]
  },
  {
   "cell_type": "code",
   "execution_count": 126,
   "metadata": {
    "collapsed": false
   },
   "outputs": [],
   "source": [
    "freq=Counter(liberals.values())\n",
    "freq2=Counter(conservatives.values())\n",
    "del freq[0]\n",
    "del freq2[0]"
   ]
  },
  {
   "cell_type": "code",
   "execution_count": 127,
   "metadata": {
    "collapsed": false
   },
   "outputs": [
    {
     "data": {
      "image/png": "[encoded data removed]",
      "text/plain": [
       "<matplotlib.figure.Figure at 0x7fd261b33a10>"
      ]
     },
     "metadata": {},
     "output_type": "display_data"
    }
   ],
   "source": [
    "markerline, stemlines, baseline=plt.stem(freq.keys(),np.array(freq.values()), linefmt='-', markerfmt='o')\n",
    "plt.setp(baseline,linewidth=0)\n",
    "plt.setp(stemlines,linewidth=1)\n",
    "markerline, stemlines, baseline=plt.stem(freq2.keys(),np.array(freq2.values()),linefmt='r-', markerfmt='ro')\n",
    "plt.setp(baseline,linewidth=0);\n",
    "plt.setp(stemlines,linewidth=1);"
   ]
  },
  {
   "cell_type": "code",
   "execution_count": 128,
   "metadata": {
    "collapsed": false
   },
   "outputs": [
    {
     "data": {
      "text/plain": [
       "(2007.0, 2009.0)"
      ]
     },
     "execution_count": 128,
     "metadata": {},
     "output_type": "execute_result"
    }
   ],
   "source": [
    "np.median(liberals.values()),np.median(conservatives.values())"
   ]
  },
  {
   "cell_type": "code",
   "execution_count": 130,
   "metadata": {
    "collapsed": false
   },
   "outputs": [
    {
     "data": {
      "text/plain": [
       "(1999.2194744976816, 1999.6523388116309)"
      ]
     },
     "execution_count": 130,
     "metadata": {},
     "output_type": "execute_result"
    }
   ],
   "source": [
    "np.mean(liberals.values()),np.mean(conservatives.values())"
   ]
  },
  {
   "cell_type": "code",
   "execution_count": 131,
   "metadata": {
    "collapsed": true
   },
   "outputs": [],
   "source": [
    "x=np.array(liberals.values())\n",
    "y=np.array(conservatives.values())\n",
    "x=x[x<2010]\n",
    "y=y[y<2010]"
   ]
  },
  {
   "cell_type": "code",
   "execution_count": 132,
   "metadata": {
    "collapsed": false
   },
   "outputs": [
    {
     "data": {
      "text/plain": [
       "(0.049625124916513053, 0.63229317237531713)"
      ]
     },
     "execution_count": 132,
     "metadata": {},
     "output_type": "execute_result"
    }
   ],
   "source": [
    "ks_2samp(x,y)"
   ]
  },
  {
   "cell_type": "code",
   "execution_count": 129,
   "metadata": {
    "collapsed": false
   },
   "outputs": [
    {
     "data": {
      "text/plain": [
       "(0.19882878675673199, 8.2565989265749452e-13)"
      ]
     },
     "execution_count": 129,
     "metadata": {},
     "output_type": "execute_result"
    }
   ],
   "source": [
    "ks_2samp(liberals.values(),conservatives.values())"
   ]
  },
  {
   "cell_type": "code",
   "execution_count": 3,
   "metadata": {
    "collapsed": false
   },
   "outputs": [],
   "source": [
    "c=cur.execute(\"select * from unique_book_attribute limit 6,1\")"
   ]
  },
  {
   "cell_type": "code",
   "execution_count": 4,
   "metadata": {
    "collapsed": false
   },
   "outputs": [
    {
     "data": {
      "text/plain": [
       "[(1332509,\n",
       "  'English',\n",
       "  'None',\n",
       "  '000016612X',\n",
       "  1,\n",
       "  'Spiral-bound',\n",
       "  'http://www.amazon.com/Policies-Procedures-Infusion-Nursing-INS/dp/000016612X',\n",
       "  -1.0,\n",
       "  'Policies and Procedures for Infusion Nursing: INS: 9780000166128: Amazon.com: Books',\n",
       "  ' Infusion Nurses Society; 4 edition (March 2011)',\n",
       "  2409419,\n",
       "  'Books>>New,Used&RentalTextbooks',\n",
       "  '',\n",
       "  None,\n",
       "  None,\n",
       "  None,\n",
       "  None,\n",
       "  None,\n",
       "  None,\n",
       "  None,\n",
       "  None,\n",
       "  3.0,\n",
       "  2,\n",
       "  -1.0)]"
      ]
     },
     "execution_count": 4,
     "metadata": {},
     "output_type": "execute_result"
    }
   ],
   "source": [
    "cur.fetchall()"
   ]
  }
 ],
 "metadata": {
  "kernelspec": {
   "display_name": "Python 2",
   "language": "python",
   "name": "python2"
  },
  "language_info": {
   "codemirror_mode": {
    "name": "ipython",
    "version": 2
   },
   "file_extension": ".py",
   "mimetype": "text/x-python",
   "name": "python",
   "nbconvert_exporter": "python",
   "pygments_lexer": "ipython2",
   "version": "2.7.10"
  }
 },
 "nbformat": 4,
 "nbformat_minor": 0
}
